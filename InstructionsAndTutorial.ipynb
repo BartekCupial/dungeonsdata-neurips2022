{\rtf1\ansi\ansicpg1252\cocoartf2638
\cocoatextscaling0\cocoaplatform0{\fonttbl\f0\fmodern\fcharset0 Courier;}
{\colortbl;\red255\green255\blue255;\red0\green0\blue0;}
{\*\expandedcolortbl;;\cssrgb\c0\c0\c0;}
\paperw11900\paperh16840\margl1440\margr1440\vieww11520\viewh8400\viewkind0
\deftab720
\pard\pardeftab720\partightenfactor0

\f0\fs26 \cf0 \expnd0\expndtw0\kerning0
\outl0\strokewidth0 \strokec2 \{\
 "cells": [\
  \{\
   "cell_type": "markdown",\
   "id": "5bba27b0",\
   "metadata": \{\},\
   "source": [\
    "# Intro to Using the NetHack Learning Dataset"\
   ]\
  \},\
  \{\
   "cell_type": "markdown",\
   "id": "ff9e5054",\
   "metadata": \{\},\
   "source": [\
    "There are two different sets of trajectories included in the NetHack Learning Dataset:\\n",\
    "- **NLD-NAO**: state-only trajectories from 1.5 M human games played on nethack.alt.org\\n",\
    "- **NLD-AA**: state-action-score trajectories from 100k NLE games played by the symbolic-bot winner of the 2021 NetHack Challenge\\n",\
    "\\n",\
    "These trajectories can be used with the `TtyrecDataset` tool which allows for efficiently training on the datasets.  This tutorial describes how to create and use and visualize the dataset."\
   ]\
  \},\
  \{\
   "cell_type": "markdown",\
   "id": "7170fdc4",\
   "metadata": \{\},\
   "source": [\
    "## Downloading the Data\\n",\
    "\\n",\
    "- **NLD-AA**: you can download the trajectories from [this WeTransfer link](https://we.tl/t-N4RyUjwcZw).\\n",\
    "- **NLD-NAO** you can download the data from these links ([pt1](https://we.tl/t-Ve3Y4oJlSE), [pt2](https://we.tl/t-z6c9bseeK0), [pt3](https://we.tl/t-8xZzPF3NK3), [xlogs](https://we.tl/t-7Ire0ZDWFe)).\\n",\
    "\\n",\
    "Alternatively, you can download the **NLD-NAO** ttyrecs directly from the alt.org s3 bucket.  As long as you use our xlogfiles you should be able to reconstruct the same dataset as provided from the link.\\n",\
    "```\\n",\
    "# First, install aws cli and verify access by lsing the file for the user FallenPhoenix81\\n",\
    "\\n",\
    "$ pip install awscli\\n",\
    "$ aws s3 ls s3://altorg/ttyrec/FallenPhoenix81/ --no-sign-request --human-readable\\n",\
    "2017-03-07 10:42:52    1.1 KiB 2012-07-05.00:46:53.ttyrec.bz2\\n",\
    "\\n",\
    "# Then download the files to a new directory.  This will take a VERY long time.\\n",\
    "\\n",\
    "$ mkdir /path/to/altorg_dataset/\\n",\
    "$ aws s3 sync s3://altorg/ttyrec/ /path/to/altorg_dataset/\\n",\
    "download: s3://altorg/ttyrec/00/...\\n",\
    "....\\n",\
    "```\\n",\
    "\\n",\
    "**Ensure the Right File Structure**\\n",\
    "\\n",\
    "TODO"\
   ]\
  \},\
  \{\
   "cell_type": "markdown",\
   "id": "dcc51a96",\
   "metadata": \{\},\
   "source": [\
    "## Setting up the Database"\
   ]\
  \},\
  \{\
   "cell_type": "markdown",\
   "id": "82891dd6",\
   "metadata": \{\},\
   "source": [\
    "Make sure you have `nle` installed by following the instructions [in the repo README here](https://github.com/facebookresearch/nle). \\n",\
    "\\n",\
    "Then, create the database from the datafiles as follows:"\
   ]\
  \},\
  \{\
   "cell_type": "code",\
   "execution_count": 1,\
   "id": "898d9f36",\
   "metadata": \{\},\
   "outputs": [],\
   "source": [\
    "import os\\n",\
    "import nle.dataset.db as db\\n",\
    "from nle.dataset.dataset import TtyrecDataset\\n",\
    "from nle.dataset import populate_db"\
   ]\
  \},\
  \{\
   "cell_type": "code",\
   "execution_count": 12,\
   "id": "4f15f607",\
   "metadata": \{\},\
   "outputs": [],\
   "source": [\
    "autoascend_data_path = \\"/path/to/autoascend_dataset\\"\\n",\
    "altorg_data_path = \\"/path/to/altorg_dataset\\"\\n",\
    "\\n",\
    "database_name = \\"ttyrecs.db\\"\\n",\
    "if not os.path.isfile(database_name):\\n",\
    "    # This will create the database file\\n",\
    "    db.create(database_name)\\n",\
    "    \\n",\
    "    # And then you can populate it with whichever datasets you choose\\n",\
    "    # to add the NLE-AA data, use `add_nledata_directory`\\n",\
    "    populate_db.add_nledata_directory(autoascend_data_path, \\"autoascend\\", database_name)\\n",\
    "    \\n",\
    "    # to add the NLE-NAO data, use the `add_altorg_directory`\\n",\
    "    populate_db.add_altorg_directory(altorg_data_path, \\"altorg\\", database_name)"\
   ]\
  \},\
  \{\
   "cell_type": "markdown",\
   "id": "6583c071",\
   "metadata": \{\},\
   "source": [\
    "You can inspect the dataset using the database tooling:"\
   ]\
  \},\
  \{\
   "cell_type": "code",\
   "execution_count": 13,\
   "id": "4d4efc83",\
   "metadata": \{\},\
   "outputs": [\
    \{\
     "name": "stdout",\
     "output_type": "stream",\
     "text": [\
      "Autoascend Dataset has 109545 games.\\n"\
     ]\
    \}\
   ],\
   "source": [\
    "# Create a connection to specify the database to use\\n",\
    "db_conn = db.connect(filename=database_name)\\n",\
    "\\n",\
    "# Then you can inspect the number of games in each dataset:\\n",\
    "print(f\\"Autoascend Dataset has \{db.count_games('autoascend', conn=db_conn)\} games.\\")\\n",\
    "print(f\\"AltOrg Dataset has \{db.count_games('altorg', conn=db_conn)\} games.\\")"\
   ]\
  \},\
  \{\
   "cell_type": "markdown",\
   "id": "e88c5bf6",\
   "metadata": \{\},\
   "source": [\
    "## Visualizing the Data"\
   ]\
  \},\
  \{\
   "cell_type": "markdown",\
   "id": "0390699d",\
   "metadata": \{\},\
   "source": [\
    "Next, to actually load the games for training you'll use the `TtyrecDataset` object:"\
   ]\
  \},\
  \{\
   "cell_type": "code",\
   "execution_count": null,\
   "id": "420ca3a2",\
   "metadata": \{\},\
   "outputs": [],\
   "source": [\
    "dataset = TtyrecDataset(\\n",\
    "    \\"autoascend\\",\\n",\
    "    batch_size=128,\\n",\
    "    seq_length=32,\\n",\
    "    dbfilename=database_name,\\n",\
    ")"\
   ]\
  \},\
  \{\
   "cell_type": "markdown",\
   "id": "19534f40",\
   "metadata": \{\},\
   "source": [\
    "This dataset above will return batches of 128 trajectories, returning sequential chunks of length 32.   That is, assuming the length of all trajectories is >>64, the first batch will give timesteps 0-31 of 128 games and the second batch will provide timesteps 32-63 for the same games, etc."\
   ]\
  \},\
  \{\
   "cell_type": "markdown",\
   "id": "1df46610",\
   "metadata": \{\},\
   "source": [\
    "### Whats in the Observation?"\
   ]\
  \},\
  \{\
   "cell_type": "code",\
   "execution_count": 76,\
   "id": "40ab43f4",\
   "metadata": \{\},\
   "outputs": [\
    \{\
     "data": \{\
      "text/plain": [\
       "dict_keys(['tty_chars', 'tty_colors', 'tty_cursor', 'timestamps', 'done', 'gameids', 'actions', 'scores'])"\
      ]\
     \},\
     "execution_count": 76,\
     "metadata": \{\},\
     "output_type": "execute_result"\
    \}\
   ],\
   "source": [\
    "minibatch = next(iter(dataset))\\n",\
    "minibatch.keys()"\
   ]\
  \},\
  \{\
   "cell_type": "markdown",\
   "id": "6318b7ea",\
   "metadata": \{\},\
   "source": [\
    "The observation is made up of three components:\\n",\
    "- `tty_chars` is a (batched) 2D np.array of the characters displayed at each point on the screen with shape: `[Batch, Time, H, W]`\\n",\
    "- `tty_colors` is the associated colors for those characters\\n",\
    "- `tty_cursor` provides the cursor position (NOTE: it's not always on the hero!)\\n",\
    "\\n",\
    "These can be easily visualized usign the `tty_render` utility:"\
   ]\
  \},\
  \{\
   "cell_type": "code",\
   "execution_count": 37,\
   "id": "3a2ceff8",\
   "metadata": \{\},\
   "outputs": [],\
   "source": [\
    "from nle.nethack import tty_render"\
   ]\
  \},\
  \{\
   "cell_type": "code",\
   "execution_count": 42,\
   "id": "f5648c03",\
   "metadata": \{\},\
   "outputs": [\
    \{\
     "name": "stdout",\
     "output_type": "stream",\
     "text": [\
      "\\n",\
      "\\u001b[0;37mH\\u001b[0;37me\\u001b[0;37ml\\u001b[0;37ml\\u001b[0;37mo\\u001b[0;30m \\u001b[0;37mA\\u001b[0;37mg\\u001b[0;37me\\u001b[0;37mn\\u001b[0;37mt\\u001b[0;37m,\\u001b[0;30m \\u001b[0;37mw\\u001b[0;37me\\u001b[0;37ml\\u001b[0;37mc\\u001b[0;37mo\\u001b[0;37mm\\u001b[0;37me\\u001b[0;30m \\u001b[0;37mt\\u001b[0;37mo\\u001b[0;30m \\u001b[0;37mN\\u001b[0;37me\\u001b[0;37mt\\u001b[0;37mH\\u001b[0;37ma\\u001b[0;37mc\\u001b[0;37mk\\u001b[0;37m!\\u001b[0;30m \\u001b[0;30m \\u001b[0;37mY\\u001b[0;37mo\\u001b[0;37mu\\u001b[0;30m \\u001b[0;37ma\\u001b[0;37mr\\u001b[0;37me\\u001b[0;30m \\u001b[0;37ma\\u001b[0;30m \\u001b[0;37mc\\u001b[0;37mh\\u001b[0;37ma\\u001b[0;37mo\\u001b[0;37mt\\u001b[0;37mi\\u001b[0;37mc\\u001b[0;30m \\u001b[0;37mf\\u001b[0;37me\\u001b[0;37mm\\u001b[0;37ma\\u001b[0;37ml\\u001b[0;37me\\u001b[0;30m \\u001b[0;37mo\\u001b[0;37mr\\u001b[0;37mc\\u001b[0;37mi\\u001b[0;37ms\\u001b[0;37mh\\u001b[0;30m \\u001b[0;37mR\\u001b[0;37mo\\u001b[0;37mg\\u001b[0;37mu\\u001b[0;37me\\u001b[0;37m.\\u001b[0;30m \\u001b[0;30m \\u001b[0;30m \\u001b[0;30m \\u001b[0;30m \\u001b[0;30m \\u001b[0;30m \\u001b[0;30m \\n",\
      "\\u001b[0;30m \\u001b[0;30m \\u001b[0;30m \\u001b[0;30m \\u001b[0;30m \\u001b[0;30m \\u001b[0;30m \\u001b[0;30m \\u001b[0;30m \\u001b[0;30m \\u001b[0;30m \\u001b[0;30m \\u001b[0;30m \\u001b[0;30m \\u001b[0;30m \\u001b[0;30m \\u001b[0;30m \\u001b[0;30m \\u001b[0;30m \\u001b[0;30m \\u001b[0;30m \\u001b[0;30m \\u001b[0;30m \\u001b[0;30m \\u001b[0;30m \\u001b[0;30m \\u001b[0;30m \\u001b[0;30m \\u001b[0;30m \\u001b[0;30m \\u001b[0;30m \\u001b[0;30m \\u001b[0;30m \\u001b[0;30m \\u001b[0;30m \\u001b[0;30m \\u001b[0;30m \\u001b[0;30m \\u001b[0;30m \\u001b[0;30m \\u001b[0;30m \\u001b[0;30m \\u001b[0;30m \\u001b[0;30m \\u001b[0;30m \\u001b[0;30m \\u001b[0;30m \\u001b[0;30m \\u001b[0;30m \\u001b[0;30m \\u001b[0;30m \\u001b[0;30m \\u001b[0;30m \\u001b[0;30m \\u001b[0;30m \\u001b[0;30m \\u001b[0;30m \\u001b[0;30m \\u001b[0;30m \\u001b[0;30m \\u001b[0;30m \\u001b[0;30m \\u001b[0;30m \\u001b[0;30m \\u001b[0;30m \\u001b[0;30m \\u001b[0;30m \\u001b[0;30m \\u001b[0;30m \\u001b[0;30m \\u001b[0;30m \\u001b[0;30m \\u001b[0;30m \\u001b[0;30m \\u001b[0;30m \\u001b[0;30m \\u001b[0;30m \\u001b[0;30m \\u001b[0;30m \\u001b[0;30m \\n",\
      "\\u001b[0;30m \\u001b[0;30m \\u001b[0;30m \\u001b[0;30m \\u001b[0;30m \\u001b[0;30m \\u001b[0;30m \\u001b[0;30m \\u001b[0;30m \\u001b[0;30m \\u001b[0;30m \\u001b[0;30m \\u001b[0;30m \\u001b[0;30m \\u001b[0;30m \\u001b[0;30m \\u001b[0;30m \\u001b[0;30m \\u001b[0;30m \\u001b[0;30m \\u001b[0;30m \\u001b[0;30m \\u001b[0;30m \\u001b[0;30m \\u001b[0;30m \\u001b[0;30m \\u001b[0;30m \\u001b[0;30m \\u001b[0;30m \\u001b[0;30m \\u001b[0;30m \\u001b[0;30m \\u001b[0;30m \\u001b[0;30m \\u001b[0;30m \\u001b[0;30m \\u001b[0;30m \\u001b[0;30m \\u001b[0;30m \\u001b[0;30m \\u001b[0;30m \\u001b[0;30m \\u001b[0;30m \\u001b[0;30m \\u001b[0;30m \\u001b[0;30m \\u001b[0;30m \\u001b[0;30m \\u001b[0;30m \\u001b[0;30m \\u001b[0;30m \\u001b[0;30m \\u001b[0;30m \\u001b[0;30m \\u001b[0;30m \\u001b[0;30m \\u001b[0;30m \\u001b[0;30m \\u001b[0;30m \\u001b[0;30m \\u001b[0;30m \\u001b[0;30m \\u001b[0;30m \\u001b[0;30m \\u001b[0;30m \\u001b[0;30m \\u001b[0;30m \\u001b[0;30m \\u001b[0;30m \\u001b[0;30m \\u001b[0;30m \\u001b[0;30m \\u001b[0;30m \\u001b[0;30m \\u001b[0;30m \\u001b[0;30m \\u001b[0;30m \\u001b[0;30m \\u001b[0;30m \\u001b[0;30m \\n",\
      "\\u001b[0;30m \\u001b[0;30m \\u001b[0;30m \\u001b[0;30m \\u001b[0;30m \\u001b[0;30m \\u001b[0;30m \\u001b[0;30m \\u001b[0;30m \\u001b[0;30m \\u001b[0;30m \\u001b[0;30m \\u001b[0;30m \\u001b[0;30m \\u001b[0;30m \\u001b[0;30m \\u001b[0;30m \\u001b[0;30m \\u001b[0;30m \\u001b[0;30m \\u001b[0;30m \\u001b[0;30m \\u001b[0;30m \\u001b[0;30m \\u001b[0;30m \\u001b[0;30m \\u001b[0;30m \\u001b[0;30m \\u001b[0;30m \\u001b[0;30m \\u001b[0;30m \\u001b[0;30m \\u001b[0;30m \\u001b[0;30m \\u001b[0;30m \\u001b[0;30m \\u001b[0;30m \\u001b[0;30m \\u001b[0;30m \\u001b[0;30m \\u001b[0;30m \\u001b[0;30m \\u001b[0;30m \\u001b[0;30m \\u001b[0;30m \\u001b[0;30m \\u001b[0;30m \\u001b[0;30m \\u001b[0;30m \\u001b[0;30m \\u001b[0;30m \\u001b[0;30m \\u001b[0;30m \\u001b[0;30m \\u001b[0;30m \\u001b[0;30m \\u001b[0;30m \\u001b[0;30m \\u001b[0;30m \\u001b[0;30m \\u001b[0;30m \\u001b[0;30m \\u001b[0;30m \\u001b[0;30m \\u001b[0;30m \\u001b[0;30m \\u001b[0;30m \\u001b[0;30m \\u001b[0;30m \\u001b[0;30m \\u001b[0;30m \\u001b[0;30m \\u001b[0;30m \\u001b[0;30m \\u001b[0;30m \\u001b[0;30m \\u001b[0;30m \\u001b[0;30m \\u001b[0;30m \\u001b[0;30m \\n",\
      "\\u001b[0;30m \\u001b[0;30m \\u001b[0;30m \\u001b[0;30m \\u001b[0;30m \\u001b[0;30m \\u001b[0;30m \\u001b[0;30m \\u001b[0;30m \\u001b[0;30m \\u001b[0;30m \\u001b[0;30m \\u001b[0;30m \\u001b[0;30m \\u001b[0;30m \\u001b[0;30m \\u001b[0;30m \\u001b[0;30m \\u001b[0;30m \\u001b[0;30m \\u001b[0;30m \\u001b[0;30m \\u001b[0;30m \\u001b[0;30m \\u001b[0;30m \\u001b[0;30m \\u001b[0;30m \\u001b[0;30m \\u001b[0;30m \\u001b[0;30m \\u001b[0;30m \\u001b[0;30m \\u001b[0;30m \\u001b[0;30m \\u001b[0;30m \\u001b[0;30m \\u001b[0;30m \\u001b[0;30m \\u001b[0;30m \\u001b[0;30m \\u001b[0;30m \\u001b[0;30m \\u001b[0;30m \\u001b[0;30m \\u001b[0;30m \\u001b[0;30m \\u001b[0;30m \\u001b[0;30m \\u001b[0;30m \\u001b[0;30m \\u001b[0;30m \\u001b[0;30m \\u001b[0;30m \\u001b[0;30m \\u001b[0;30m \\u001b[0;30m \\u001b[0;30m \\u001b[0;30m \\u001b[0;30m \\u001b[0;30m \\u001b[0;30m \\u001b[0;30m \\u001b[0;30m \\u001b[0;30m \\u001b[0;30m \\u001b[0;30m \\u001b[0;30m \\u001b[0;30m \\u001b[0;30m \\u001b[0;30m \\u001b[0;30m \\u001b[0;30m \\u001b[0;30m \\u001b[0;30m \\u001b[0;30m \\u001b[0;30m \\u001b[0;30m \\u001b[0;30m \\u001b[0;30m \\u001b[0;30m \\n",\
      "\\u001b[0;30m \\u001b[0;30m \\u001b[0;30m \\u001b[0;30m \\u001b[0;30m \\u001b[0;30m \\u001b[0;30m \\u001b[0;30m \\u001b[0;30m \\u001b[0;30m \\u001b[0;30m \\u001b[0;30m \\u001b[0;30m \\u001b[0;30m \\u001b[0;30m \\u001b[0;30m \\u001b[0;30m \\u001b[0;30m \\u001b[0;30m \\u001b[0;30m \\u001b[0;30m \\u001b[0;30m \\u001b[0;30m \\u001b[0;30m \\u001b[0;30m \\u001b[0;30m \\u001b[0;30m \\u001b[0;30m \\u001b[0;30m \\u001b[0;30m \\u001b[0;30m \\u001b[0;30m \\u001b[0;30m \\u001b[0;30m \\u001b[0;30m \\u001b[0;30m \\u001b[0;30m \\u001b[0;30m \\u001b[0;30m \\u001b[0;30m \\u001b[0;30m \\u001b[0;30m \\u001b[0;30m \\u001b[0;30m \\u001b[0;30m \\u001b[0;30m \\u001b[0;30m \\u001b[0;30m \\u001b[0;30m \\u001b[0;30m \\u001b[0;30m \\u001b[0;30m \\u001b[0;30m \\u001b[0;30m \\u001b[0;30m \\u001b[0;30m \\u001b[0;30m \\u001b[0;30m \\u001b[0;30m \\u001b[0;30m \\u001b[0;30m \\u001b[0;37m-\\u001b[0;37m-\\u001b[0;37m-\\u001b[0;37m-\\u001b[0;37m-\\u001b[0;37m-\\u001b[0;37m-\\u001b[0;37m-\\u001b[0;37m-\\u001b[0;37m-\\u001b[0;37m-\\u001b[0;37m-\\u001b[0;37m-\\u001b[0;30m \\u001b[0;30m \\u001b[0;30m \\u001b[0;30m \\u001b[0;30m \\u001b[0;30m \\n",\
      "\\u001b[0;30m \\u001b[0;30m \\u001b[0;30m \\u001b[0;30m \\u001b[0;30m \\u001b[0;30m \\u001b[0;30m \\u001b[0;30m \\u001b[0;30m \\u001b[0;30m \\u001b[0;30m \\u001b[0;30m \\u001b[0;30m \\u001b[0;30m \\u001b[0;30m \\u001b[0;30m \\u001b[0;30m \\u001b[0;30m \\u001b[0;30m \\u001b[0;30m \\u001b[0;30m \\u001b[0;30m \\u001b[0;30m \\u001b[0;30m \\u001b[0;30m \\u001b[0;30m \\u001b[0;30m \\u001b[0;30m \\u001b[0;30m \\u001b[0;30m \\u001b[0;30m \\u001b[0;30m \\u001b[0;30m \\u001b[0;30m \\u001b[0;30m \\u001b[0;30m \\u001b[0;30m \\u001b[0;30m \\u001b[0;30m \\u001b[0;30m \\u001b[0;30m \\u001b[0;30m \\u001b[0;30m \\u001b[0;30m \\u001b[0;30m \\u001b[0;30m \\u001b[0;30m \\u001b[0;30m \\u001b[0;30m \\u001b[0;30m \\u001b[0;30m \\u001b[0;30m \\u001b[0;30m \\u001b[0;30m \\u001b[0;30m \\u001b[0;30m \\u001b[0;30m \\u001b[0;30m \\u001b[0;30m \\u001b[0;30m \\u001b[0;30m \\u001b[0;37m.\\u001b[0;37m.\\u001b[0;37m.\\u001b[0;37m.\\u001b[0;37m.\\u001b[0;37m.\\u001b[0;37m.\\u001b[0;37m.\\u001b[0;37m.\\u001b[0;37m.\\u001b[0;37m.\\u001b[0;37m.\\u001b[0;37m|\\u001b[0;30m \\u001b[0;30m \\u001b[0;30m \\u001b[0;30m \\u001b[0;30m \\u001b[0;30m \\n",\
      "\\u001b[0;30m \\u001b[0;30m \\u001b[0;30m \\u001b[0;30m \\u001b[0;30m \\u001b[0;30m \\u001b[0;30m \\u001b[0;30m \\u001b[0;30m \\u001b[0;30m \\u001b[0;30m \\u001b[0;30m \\u001b[0;30m \\u001b[0;30m \\u001b[0;30m \\u001b[0;30m \\u001b[0;30m \\u001b[0;30m \\u001b[0;30m \\u001b[0;30m \\u001b[0;30m \\u001b[0;30m \\u001b[0;30m \\u001b[0;30m \\u001b[0;30m \\u001b[0;30m \\u001b[0;30m \\u001b[0;30m \\u001b[0;30m \\u001b[0;30m \\u001b[0;30m \\u001b[0;30m \\u001b[0;30m \\u001b[0;30m \\u001b[0;30m \\u001b[0;30m \\u001b[0;30m \\u001b[0;30m \\u001b[0;30m \\u001b[0;30m \\u001b[0;30m \\u001b[0;30m \\u001b[0;30m \\u001b[0;30m \\u001b[0;30m \\u001b[0;30m \\u001b[0;30m \\u001b[0;30m \\u001b[0;30m \\u001b[0;30m \\u001b[0;30m \\u001b[0;30m \\u001b[0;30m \\u001b[0;30m \\u001b[0;30m \\u001b[0;30m \\u001b[0;30m \\u001b[0;30m \\u001b[0;30m \\u001b[0;30m \\u001b[0;30m \\u001b[0;37m|\\u001b[0;37m.\\u001b[0;37m.\\u001b[0;37m.\\u001b[1;33m$\\u001b[0;37m.\\u001b[0;37m.\\u001b[0;37m.\\u001b[0;37m.\\u001b[0;37m.\\u001b[0;37m.\\u001b[0;37m.\\u001b[0;37m|\\u001b[0;30m \\u001b[0;30m \\u001b[0;30m \\u001b[0;30m \\u001b[0;30m \\u001b[0;30m \\n",\
      "\\u001b[0;30m \\u001b[0;30m \\u001b[0;30m \\u001b[0;30m \\u001b[0;30m \\u001b[0;30m \\u001b[0;30m \\u001b[0;30m \\u001b[0;30m \\u001b[0;30m \\u001b[0;30m \\u001b[0;30m \\u001b[0;30m \\u001b[0;30m \\u001b[0;30m \\u001b[0;30m \\u001b[0;30m \\u001b[0;30m \\u001b[0;30m \\u001b[0;30m \\u001b[0;30m \\u001b[0;30m \\u001b[0;30m \\u001b[0;30m \\u001b[0;30m \\u001b[0;30m \\u001b[0;30m \\u001b[0;30m \\u001b[0;30m \\u001b[0;30m \\u001b[0;30m \\u001b[0;30m \\u001b[0;30m \\u001b[0;30m \\u001b[0;30m \\u001b[0;30m \\u001b[0;30m \\u001b[0;30m \\u001b[0;30m \\u001b[0;30m \\u001b[0;30m \\u001b[0;30m \\u001b[0;30m \\u001b[0;30m \\u001b[0;30m \\u001b[0;30m \\u001b[0;30m \\u001b[0;30m \\u001b[0;30m \\u001b[0;30m \\u001b[0;30m \\u001b[0;30m \\u001b[0;30m \\u001b[0;30m \\u001b[0;30m \\u001b[0;30m \\u001b[0;30m \\u001b[0;30m \\u001b[0;30m \\u001b[0;30m \\u001b[0;30m \\u001b[0;37m.\\u001b[0;37m.\\u001b[0;37m.\\u001b[0;37m.\\u001b[0;37m.\\u001b[0;37m.\\u001b[0;33md\\u001b[0;37m.\\u001b[0;37m.\\u001b[0;37m.\\u001b[0;37m.\\u001b[0;37m.\\u001b[0;37m|\\u001b[0;30m \\u001b[0;30m \\u001b[0;30m \\u001b[0;30m \\u001b[0;30m \\u001b[0;30m \\n",\
      "\\u001b[0;30m \\u001b[0;30m \\u001b[0;30m \\u001b[0;30m \\u001b[0;30m \\u001b[0;30m \\u001b[0;30m \\u001b[0;30m \\u001b[0;30m \\u001b[0;30m \\u001b[0;30m \\u001b[0;30m \\u001b[0;30m \\u001b[0;30m \\u001b[0;30m \\u001b[0;30m \\u001b[0;30m \\u001b[0;30m \\u001b[0;30m \\u001b[0;30m \\u001b[0;30m \\u001b[0;30m \\u001b[0;30m \\u001b[0;30m \\u001b[0;30m \\u001b[0;30m \\u001b[0;30m \\u001b[0;30m \\u001b[0;30m \\u001b[0;30m \\u001b[0;30m \\u001b[0;30m \\u001b[0;30m \\u001b[0;30m \\u001b[0;30m \\u001b[0;30m \\u001b[0;30m \\u001b[0;30m \\u001b[0;30m \\u001b[0;30m \\u001b[0;30m \\u001b[0;30m \\u001b[0;30m \\u001b[0;30m \\u001b[0;30m \\u001b[0;30m \\u001b[0;30m \\u001b[0;30m \\u001b[0;30m \\u001b[0;30m \\u001b[0;30m \\u001b[0;30m \\u001b[0;30m \\u001b[0;30m \\u001b[0;30m \\u001b[0;30m \\u001b[0;30m \\u001b[0;30m \\u001b[0;30m \\u001b[0;30m \\u001b[0;30m \\u001b[0;37m|\\u001b[0;37m.\\u001b[0;37m.\\u001b[1;37mf\\u001b[1;37m@\\u001b[1;37m?\\u001b[0;37m.\\u001b[0;37m.\\u001b[0;37m.\\u001b[0;37m.\\u001b[0;37m.\\u001b[0;37m.\\u001b[0;37m|\\u001b[0;30m \\u001b[0;30m \\u001b[0;30m \\u001b[0;30m \\u001b[0;30m \\u001b[0;30m \\n",\
      "\\u001b[0;30m \\u001b[0;30m \\u001b[0;30m \\u001b[0;30m \\u001b[0;30m \\u001b[0;30m \\u001b[0;30m \\u001b[0;30m \\u001b[0;30m \\u001b[0;30m \\u001b[0;30m \\u001b[0;30m \\u001b[0;30m \\u001b[0;30m \\u001b[0;30m \\u001b[0;30m \\u001b[0;30m \\u001b[0;30m \\u001b[0;30m \\u001b[0;30m \\u001b[0;30m \\u001b[0;30m \\u001b[0;30m \\u001b[0;30m \\u001b[0;30m \\u001b[0;30m \\u001b[0;30m \\u001b[0;30m \\u001b[0;30m \\u001b[0;30m \\u001b[0;30m \\u001b[0;30m \\u001b[0;30m \\u001b[0;30m \\u001b[0;30m \\u001b[0;30m \\u001b[0;30m \\u001b[0;30m \\u001b[0;30m \\u001b[0;30m \\u001b[0;30m \\u001b[0;30m \\u001b[0;30m \\u001b[0;30m \\u001b[0;30m \\u001b[0;30m \\u001b[0;30m \\u001b[0;30m \\u001b[0;30m \\u001b[0;30m \\u001b[0;30m \\u001b[0;30m \\u001b[0;30m \\u001b[0;30m \\u001b[0;30m \\u001b[0;30m \\u001b[0;30m \\u001b[0;30m \\u001b[0;30m \\u001b[0;30m \\u001b[0;30m \\u001b[0;37m-\\u001b[0;37m-\\u001b[0;37m-\\u001b[0;37m-\\u001b[0;37m-\\u001b[0;37m-\\u001b[0;37m-\\u001b[0;37m-\\u001b[0;37m-\\u001b[0;37m-\\u001b[0;30m \\u001b[0;37m-\\u001b[0;37m-\\u001b[0;30m \\u001b[0;30m \\u001b[0;30m \\u001b[0;30m \\u001b[0;30m \\u001b[0;30m \\n",\
      "\\u001b[0;30m \\u001b[0;30m \\u001b[0;30m \\u001b[0;30m \\u001b[0;30m \\u001b[0;30m \\u001b[0;30m \\u001b[0;30m \\u001b[0;30m \\u001b[0;30m \\u001b[0;30m \\u001b[0;30m \\u001b[0;30m \\u001b[0;30m \\u001b[0;30m \\u001b[0;30m \\u001b[0;30m \\u001b[0;30m \\u001b[0;30m \\u001b[0;30m \\u001b[0;30m \\u001b[0;30m \\u001b[0;30m \\u001b[0;30m \\u001b[0;30m \\u001b[0;30m \\u001b[0;30m \\u001b[0;30m \\u001b[0;30m \\u001b[0;30m \\u001b[0;30m \\u001b[0;30m \\u001b[0;30m \\u001b[0;30m \\u001b[0;30m \\u001b[0;30m \\u001b[0;30m \\u001b[0;30m \\u001b[0;30m \\u001b[0;30m \\u001b[0;30m \\u001b[0;30m \\u001b[0;30m \\u001b[0;30m \\u001b[0;30m \\u001b[0;30m \\u001b[0;30m \\u001b[0;30m \\u001b[0;30m \\u001b[0;30m \\u001b[0;30m \\u001b[0;30m \\u001b[0;30m \\u001b[0;30m \\u001b[0;30m \\u001b[0;30m \\u001b[0;30m \\u001b[0;30m \\u001b[0;30m \\u001b[0;30m \\u001b[0;30m \\u001b[0;30m \\u001b[0;30m \\u001b[0;30m \\u001b[0;30m \\u001b[0;30m \\u001b[0;30m \\u001b[0;30m \\u001b[0;30m \\u001b[0;30m \\u001b[0;30m \\u001b[0;30m \\u001b[0;30m \\u001b[0;30m \\u001b[0;30m \\u001b[0;30m \\u001b[0;30m \\u001b[0;30m \\u001b[0;30m \\u001b[0;30m \\n",\
      "\\u001b[0;30m \\u001b[0;30m \\u001b[0;30m \\u001b[0;30m \\u001b[0;30m \\u001b[0;30m \\u001b[0;30m \\u001b[0;30m \\u001b[0;30m \\u001b[0;30m \\u001b[0;30m \\u001b[0;30m \\u001b[0;30m \\u001b[0;30m \\u001b[0;30m \\u001b[0;30m \\u001b[0;30m \\u001b[0;30m \\u001b[0;30m \\u001b[0;30m \\u001b[0;30m \\u001b[0;30m \\u001b[0;30m \\u001b[0;30m \\u001b[0;30m \\u001b[0;30m \\u001b[0;30m \\u001b[0;30m \\u001b[0;30m \\u001b[0;30m \\u001b[0;30m \\u001b[0;30m \\u001b[0;30m \\u001b[0;30m \\u001b[0;30m \\u001b[0;30m \\u001b[0;30m \\u001b[0;30m \\u001b[0;30m \\u001b[0;30m \\u001b[0;30m \\u001b[0;30m \\u001b[0;30m \\u001b[0;30m \\u001b[0;30m \\u001b[0;30m \\u001b[0;30m \\u001b[0;30m \\u001b[0;30m \\u001b[0;30m \\u001b[0;30m \\u001b[0;30m \\u001b[0;30m \\u001b[0;30m \\u001b[0;30m \\u001b[0;30m \\u001b[0;30m \\u001b[0;30m \\u001b[0;30m \\u001b[0;30m \\u001b[0;30m \\u001b[0;30m \\u001b[0;30m \\u001b[0;30m \\u001b[0;30m \\u001b[0;30m \\u001b[0;30m \\u001b[0;30m \\u001b[0;30m \\u001b[0;30m \\u001b[0;30m \\u001b[0;30m \\u001b[0;30m \\u001b[0;30m \\u001b[0;30m \\u001b[0;30m \\u001b[0;30m \\u001b[0;30m \\u001b[0;30m \\u001b[0;30m \\n",\
      "\\u001b[0;30m \\u001b[0;30m \\u001b[0;30m \\u001b[0;30m \\u001b[0;30m \\u001b[0;30m \\u001b[0;30m \\u001b[0;30m \\u001b[0;30m \\u001b[0;30m \\u001b[0;30m \\u001b[0;30m \\u001b[0;30m \\u001b[0;30m \\u001b[0;30m \\u001b[0;30m \\u001b[0;30m \\u001b[0;30m \\u001b[0;30m \\u001b[0;30m \\u001b[0;30m \\u001b[0;30m \\u001b[0;30m \\u001b[0;30m \\u001b[0;30m \\u001b[0;30m \\u001b[0;30m \\u001b[0;30m \\u001b[0;30m \\u001b[0;30m \\u001b[0;30m \\u001b[0;30m \\u001b[0;30m \\u001b[0;30m \\u001b[0;30m \\u001b[0;30m \\u001b[0;30m \\u001b[0;30m \\u001b[0;30m \\u001b[0;30m \\u001b[0;30m \\u001b[0;30m \\u001b[0;30m \\u001b[0;30m \\u001b[0;30m \\u001b[0;30m \\u001b[0;30m \\u001b[0;30m \\u001b[0;30m \\u001b[0;30m \\u001b[0;30m \\u001b[0;30m \\u001b[0;30m \\u001b[0;30m \\u001b[0;30m \\u001b[0;30m \\u001b[0;30m \\u001b[0;30m \\u001b[0;30m \\u001b[0;30m \\u001b[0;30m \\u001b[0;30m \\u001b[0;30m \\u001b[0;30m \\u001b[0;30m \\u001b[0;30m \\u001b[0;30m \\u001b[0;30m \\u001b[0;30m \\u001b[0;30m \\u001b[0;30m \\u001b[0;30m \\u001b[0;30m \\u001b[0;30m \\u001b[0;30m \\u001b[0;30m \\u001b[0;30m \\u001b[0;30m \\u001b[0;30m \\u001b[0;30m \\n",\
      "\\u001b[0;30m \\u001b[0;30m \\u001b[0;30m \\u001b[0;30m \\u001b[0;30m \\u001b[0;30m \\u001b[0;30m \\u001b[0;30m \\u001b[0;30m \\u001b[0;30m \\u001b[0;30m \\u001b[0;30m \\u001b[0;30m \\u001b[0;30m \\u001b[0;30m \\u001b[0;30m \\u001b[0;30m \\u001b[0;30m \\u001b[0;30m \\u001b[0;30m \\u001b[0;30m \\u001b[0;30m \\u001b[0;30m \\u001b[0;30m \\u001b[0;30m \\u001b[0;30m \\u001b[0;30m \\u001b[0;30m \\u001b[0;30m \\u001b[0;30m \\u001b[0;30m \\u001b[0;30m \\u001b[0;30m \\u001b[0;30m \\u001b[0;30m \\u001b[0;30m \\u001b[0;30m \\u001b[0;30m \\u001b[0;30m \\u001b[0;30m \\u001b[0;30m \\u001b[0;30m \\u001b[0;30m \\u001b[0;30m \\u001b[0;30m \\u001b[0;30m \\u001b[0;30m \\u001b[0;30m \\u001b[0;30m \\u001b[0;30m \\u001b[0;30m \\u001b[0;30m \\u001b[0;30m \\u001b[0;30m \\u001b[0;30m \\u001b[0;30m \\u001b[0;30m \\u001b[0;30m \\u001b[0;30m \\u001b[0;30m \\u001b[0;30m \\u001b[0;30m \\u001b[0;30m \\u001b[0;30m \\u001b[0;30m \\u001b[0;30m \\u001b[0;30m \\u001b[0;30m \\u001b[0;30m \\u001b[0;30m \\u001b[0;30m \\u001b[0;30m \\u001b[0;30m \\u001b[0;30m \\u001b[0;30m \\u001b[0;30m \\u001b[0;30m \\u001b[0;30m \\u001b[0;30m \\u001b[0;30m \\n",\
      "\\u001b[0;30m \\u001b[0;30m \\u001b[0;30m \\u001b[0;30m \\u001b[0;30m \\u001b[0;30m \\u001b[0;30m \\u001b[0;30m \\u001b[0;30m \\u001b[0;30m \\u001b[0;30m \\u001b[0;30m \\u001b[0;30m \\u001b[0;30m \\u001b[0;30m \\u001b[0;30m \\u001b[0;30m \\u001b[0;30m \\u001b[0;30m \\u001b[0;30m \\u001b[0;30m \\u001b[0;30m \\u001b[0;30m \\u001b[0;30m \\u001b[0;30m \\u001b[0;30m \\u001b[0;30m \\u001b[0;30m \\u001b[0;30m \\u001b[0;30m \\u001b[0;30m \\u001b[0;30m \\u001b[0;30m \\u001b[0;30m \\u001b[0;30m \\u001b[0;30m \\u001b[0;30m \\u001b[0;30m \\u001b[0;30m \\u001b[0;30m \\u001b[0;30m \\u001b[0;30m \\u001b[0;30m \\u001b[0;30m \\u001b[0;30m \\u001b[0;30m \\u001b[0;30m \\u001b[0;30m \\u001b[0;30m \\u001b[0;30m \\u001b[0;30m \\u001b[0;30m \\u001b[0;30m \\u001b[0;30m \\u001b[0;30m \\u001b[0;30m \\u001b[0;30m \\u001b[0;30m \\u001b[0;30m \\u001b[0;30m \\u001b[0;30m \\u001b[0;30m \\u001b[0;30m \\u001b[0;30m \\u001b[0;30m \\u001b[0;30m \\u001b[0;30m \\u001b[0;30m \\u001b[0;30m \\u001b[0;30m \\u001b[0;30m \\u001b[0;30m \\u001b[0;30m \\u001b[0;30m \\u001b[0;30m \\u001b[0;30m \\u001b[0;30m \\u001b[0;30m \\u001b[0;30m \\u001b[0;30m \\n",\
      "\\u001b[0;30m \\u001b[0;30m \\u001b[0;30m \\u001b[0;30m \\u001b[0;30m \\u001b[0;30m \\u001b[0;30m \\u001b[0;30m \\u001b[0;30m \\u001b[0;30m \\u001b[0;30m \\u001b[0;30m \\u001b[0;30m \\u001b[0;30m \\u001b[0;30m \\u001b[0;30m \\u001b[0;30m \\u001b[0;30m \\u001b[0;30m \\u001b[0;30m \\u001b[0;30m \\u001b[0;30m \\u001b[0;30m \\u001b[0;30m \\u001b[0;30m \\u001b[0;30m \\u001b[0;30m \\u001b[0;30m \\u001b[0;30m \\u001b[0;30m \\u001b[0;30m \\u001b[0;30m \\u001b[0;30m \\u001b[0;30m \\u001b[0;30m \\u001b[0;30m \\u001b[0;30m \\u001b[0;30m \\u001b[0;30m \\u001b[0;30m \\u001b[0;30m \\u001b[0;30m \\u001b[0;30m \\u001b[0;30m \\u001b[0;30m \\u001b[0;30m \\u001b[0;30m \\u001b[0;30m \\u001b[0;30m \\u001b[0;30m \\u001b[0;30m \\u001b[0;30m \\u001b[0;30m \\u001b[0;30m \\u001b[0;30m \\u001b[0;30m \\u001b[0;30m \\u001b[0;30m \\u001b[0;30m \\u001b[0;30m \\u001b[0;30m \\u001b[0;30m \\u001b[0;30m \\u001b[0;30m \\u001b[0;30m \\u001b[0;30m \\u001b[0;30m \\u001b[0;30m \\u001b[0;30m \\u001b[0;30m \\u001b[0;30m \\u001b[0;30m \\u001b[0;30m \\u001b[0;30m \\u001b[0;30m \\u001b[0;30m \\u001b[0;30m \\u001b[0;30m \\u001b[0;30m \\u001b[0;30m \\n",\
      "\\u001b[0;30m \\u001b[0;30m \\u001b[0;30m \\u001b[0;30m \\u001b[0;30m \\u001b[0;30m \\u001b[0;30m \\u001b[0;30m \\u001b[0;30m \\u001b[0;30m \\u001b[0;30m \\u001b[0;30m \\u001b[0;30m \\u001b[0;30m \\u001b[0;30m \\u001b[0;30m \\u001b[0;30m \\u001b[0;30m \\u001b[0;30m \\u001b[0;30m \\u001b[0;30m \\u001b[0;30m \\u001b[0;30m \\u001b[0;30m \\u001b[0;30m \\u001b[0;30m \\u001b[0;30m \\u001b[0;30m \\u001b[0;30m \\u001b[0;30m \\u001b[0;30m \\u001b[0;30m \\u001b[0;30m \\u001b[0;30m \\u001b[0;30m \\u001b[0;30m \\u001b[0;30m \\u001b[0;30m \\u001b[0;30m \\u001b[0;30m \\u001b[0;30m \\u001b[0;30m \\u001b[0;30m \\u001b[0;30m \\u001b[0;30m \\u001b[0;30m \\u001b[0;30m \\u001b[0;30m \\u001b[0;30m \\u001b[0;30m \\u001b[0;30m \\u001b[0;30m \\u001b[0;30m \\u001b[0;30m \\u001b[0;30m \\u001b[0;30m \\u001b[0;30m \\u001b[0;30m \\u001b[0;30m \\u001b[0;30m \\u001b[0;30m \\u001b[0;30m \\u001b[0;30m \\u001b[0;30m \\u001b[0;30m \\u001b[0;30m \\u001b[0;30m \\u001b[0;30m \\u001b[0;30m \\u001b[0;30m \\u001b[0;30m \\u001b[0;30m \\u001b[0;30m \\u001b[0;30m \\u001b[0;30m \\u001b[0;30m \\u001b[0;30m \\u001b[0;30m \\u001b[0;30m \\u001b[0;30m \\n",\
      "\\u001b[0;30m \\u001b[0;30m \\u001b[0;30m \\u001b[0;30m \\u001b[0;30m \\u001b[0;30m \\u001b[0;30m \\u001b[0;30m \\u001b[0;30m \\u001b[0;30m \\u001b[0;30m \\u001b[0;30m \\u001b[0;30m \\u001b[0;30m \\u001b[0;30m \\u001b[0;30m \\u001b[0;30m \\u001b[0;30m \\u001b[0;30m \\u001b[0;30m \\u001b[0;30m \\u001b[0;30m \\u001b[0;30m \\u001b[0;30m \\u001b[0;30m \\u001b[0;30m \\u001b[0;30m \\u001b[0;30m \\u001b[0;30m \\u001b[0;30m \\u001b[0;30m \\u001b[0;30m \\u001b[0;30m \\u001b[0;30m \\u001b[0;30m \\u001b[0;30m \\u001b[0;30m \\u001b[0;30m \\u001b[0;30m \\u001b[0;30m \\u001b[0;30m \\u001b[0;30m \\u001b[0;30m \\u001b[0;30m \\u001b[0;30m \\u001b[0;30m \\u001b[0;30m \\u001b[0;30m \\u001b[0;30m \\u001b[0;30m \\u001b[0;30m \\u001b[0;30m \\u001b[0;30m \\u001b[0;30m \\u001b[0;30m \\u001b[0;30m \\u001b[0;30m \\u001b[0;30m \\u001b[0;30m \\u001b[0;30m \\u001b[0;30m \\u001b[0;30m \\u001b[0;30m \\u001b[0;30m \\u001b[0;30m \\u001b[0;30m \\u001b[0;30m \\u001b[0;30m \\u001b[0;30m \\u001b[0;30m \\u001b[0;30m \\u001b[0;30m \\u001b[0;30m \\u001b[0;30m \\u001b[0;30m \\u001b[0;30m \\u001b[0;30m \\u001b[0;30m \\u001b[0;30m \\u001b[0;30m \\n",\
      "\\u001b[0;30m \\u001b[0;30m \\u001b[0;30m \\u001b[0;30m \\u001b[0;30m \\u001b[0;30m \\u001b[0;30m \\u001b[0;30m \\u001b[0;30m \\u001b[0;30m \\u001b[0;30m \\u001b[0;30m \\u001b[0;30m \\u001b[0;30m \\u001b[0;30m \\u001b[0;30m \\u001b[0;30m \\u001b[0;30m \\u001b[0;30m \\u001b[0;30m \\u001b[0;30m \\u001b[0;30m \\u001b[0;30m \\u001b[0;30m \\u001b[0;30m \\u001b[0;30m \\u001b[0;30m \\u001b[0;30m \\u001b[0;30m \\u001b[0;30m \\u001b[0;30m \\u001b[0;30m \\u001b[0;30m \\u001b[0;30m \\u001b[0;30m \\u001b[0;30m \\u001b[0;30m \\u001b[0;30m \\u001b[0;30m \\u001b[0;30m \\u001b[0;30m \\u001b[0;30m \\u001b[0;30m \\u001b[0;30m \\u001b[0;30m \\u001b[0;30m \\u001b[0;30m \\u001b[0;30m \\u001b[0;30m \\u001b[0;30m \\u001b[0;30m \\u001b[0;30m \\u001b[0;30m \\u001b[0;30m \\u001b[0;30m \\u001b[0;30m \\u001b[0;30m \\u001b[0;30m \\u001b[0;30m \\u001b[0;30m \\u001b[0;30m \\u001b[0;30m \\u001b[0;30m \\u001b[0;30m \\u001b[0;30m \\u001b[0;30m \\u001b[0;30m \\u001b[0;30m \\u001b[0;30m \\u001b[0;30m \\u001b[0;30m \\u001b[0;30m \\u001b[0;30m \\u001b[0;30m \\u001b[0;30m \\u001b[0;30m \\u001b[0;30m \\u001b[0;30m \\u001b[0;30m \\u001b[0;30m \\n",\
      "\\u001b[0;30m \\u001b[0;30m \\u001b[0;30m \\u001b[0;30m \\u001b[0;30m \\u001b[0;30m \\u001b[0;30m \\u001b[0;30m \\u001b[0;30m \\u001b[0;30m \\u001b[0;30m \\u001b[0;30m \\u001b[0;30m \\u001b[0;30m \\u001b[0;30m \\u001b[0;30m \\u001b[0;30m \\u001b[0;30m \\u001b[0;30m \\u001b[0;30m \\u001b[0;30m \\u001b[0;30m \\u001b[0;30m \\u001b[0;30m \\u001b[0;30m \\u001b[0;30m \\u001b[0;30m \\u001b[0;30m \\u001b[0;30m \\u001b[0;30m \\u001b[0;30m \\u001b[0;30m \\u001b[0;30m \\u001b[0;30m \\u001b[0;30m \\u001b[0;30m \\u001b[0;30m \\u001b[0;30m \\u001b[0;30m \\u001b[0;30m \\u001b[0;30m \\u001b[0;30m \\u001b[0;30m \\u001b[0;30m \\u001b[0;30m \\u001b[0;30m \\u001b[0;30m \\u001b[0;30m \\u001b[0;30m \\u001b[0;30m \\u001b[0;30m \\u001b[0;30m \\u001b[0;30m \\u001b[0;30m \\u001b[0;30m \\u001b[0;30m \\u001b[0;30m \\u001b[0;30m \\u001b[0;30m \\u001b[0;30m \\u001b[0;30m \\u001b[0;30m \\u001b[0;30m \\u001b[0;30m \\u001b[0;30m \\u001b[0;30m \\u001b[0;30m \\u001b[0;30m \\u001b[0;30m \\u001b[0;30m \\u001b[0;30m \\u001b[0;30m \\u001b[0;30m \\u001b[0;30m \\u001b[0;30m \\u001b[0;30m \\u001b[0;30m \\u001b[0;30m \\u001b[0;30m \\u001b[0;30m \\n",\
      "\\u001b[0;30m \\u001b[0;30m \\u001b[0;30m \\u001b[0;30m \\u001b[0;30m \\u001b[0;30m \\u001b[0;30m \\u001b[0;30m \\u001b[0;30m \\u001b[0;30m \\u001b[0;30m \\u001b[0;30m \\u001b[0;30m \\u001b[0;30m \\u001b[0;30m \\u001b[0;30m \\u001b[0;30m \\u001b[0;30m \\u001b[0;30m \\u001b[0;30m \\u001b[0;30m \\u001b[0;30m \\u001b[0;30m \\u001b[0;30m \\u001b[0;30m \\u001b[0;30m \\u001b[0;30m \\u001b[0;30m \\u001b[0;30m \\u001b[0;30m \\u001b[0;30m \\u001b[0;30m \\u001b[0;30m \\u001b[0;30m \\u001b[0;30m \\u001b[0;30m \\u001b[0;30m \\u001b[0;30m \\u001b[0;30m \\u001b[0;30m \\u001b[0;30m \\u001b[0;30m \\u001b[0;30m \\u001b[0;30m \\u001b[0;30m \\u001b[0;30m \\u001b[0;30m \\u001b[0;30m \\u001b[0;30m \\u001b[0;30m \\u001b[0;30m \\u001b[0;30m \\u001b[0;30m \\u001b[0;30m \\u001b[0;30m \\u001b[0;30m \\u001b[0;30m \\u001b[0;30m \\u001b[0;30m \\u001b[0;30m \\u001b[0;30m \\u001b[0;30m \\u001b[0;30m \\u001b[0;30m \\u001b[0;30m \\u001b[0;30m \\u001b[0;30m \\u001b[0;30m \\u001b[0;30m \\u001b[0;30m \\u001b[0;30m \\u001b[0;30m \\u001b[0;30m \\u001b[0;30m \\u001b[0;30m \\u001b[0;30m \\u001b[0;30m \\u001b[0;30m \\u001b[0;30m \\u001b[0;30m \\n",\
      "\\u001b[0;37mA\\u001b[0;37mg\\u001b[0;37me\\u001b[0;37mn\\u001b[0;37mt\\u001b[0;30m \\u001b[0;37mt\\u001b[0;37mh\\u001b[0;37me\\u001b[0;30m \\u001b[0;37mF\\u001b[0;37mo\\u001b[0;37mo\\u001b[0;37mt\\u001b[0;37mp\\u001b[0;37ma\\u001b[0;37md\\u001b[0;30m \\u001b[0;30m \\u001b[0;30m \\u001b[0;30m \\u001b[0;30m \\u001b[0;30m \\u001b[0;30m \\u001b[0;30m \\u001b[0;30m \\u001b[0;30m \\u001b[0;30m \\u001b[0;30m \\u001b[0;30m \\u001b[0;30m \\u001b[0;37mS\\u001b[0;37mt\\u001b[0;37m:\\u001b[0;37m1\\u001b[0;37m5\\u001b[0;30m \\u001b[0;37mD\\u001b[0;37mx\\u001b[0;37m:\\u001b[0;37m1\\u001b[0;37m8\\u001b[0;30m \\u001b[0;37mC\\u001b[0;37mo\\u001b[0;37m:\\u001b[0;37m1\\u001b[0;37m5\\u001b[0;30m \\u001b[0;37mI\\u001b[0;37mn\\u001b[0;37m:\\u001b[0;37m9\\u001b[0;30m \\u001b[0;37mW\\u001b[0;37mi\\u001b[0;37m:\\u001b[0;37m1\\u001b[0;37m1\\u001b[0;30m \\u001b[0;37mC\\u001b[0;37mh\\u001b[0;37m:\\u001b[0;37m7\\u001b[0;30m \\u001b[0;37mC\\u001b[0;37mh\\u001b[0;37ma\\u001b[0;37mo\\u001b[0;37mt\\u001b[0;37mi\\u001b[0;37mc\\u001b[0;30m \\u001b[0;37mS\\u001b[0;37m:\\u001b[0;37m0\\u001b[0;30m \\u001b[0;30m \\u001b[0;30m \\u001b[0;30m \\n",\
      "\\u001b[0;37mD\\u001b[0;37ml\\u001b[0;37mv\\u001b[0;37ml\\u001b[0;37m:\\u001b[0;37m1\\u001b[0;30m \\u001b[0;37m$\\u001b[0;37m:\\u001b[0;37m0\\u001b[0;30m \\u001b[0;37mH\\u001b[0;37mP\\u001b[0;37m:\\u001b[0;37m1\\u001b[0;37m1\\u001b[0;37m(\\u001b[0;37m1\\u001b[0;37m1\\u001b[0;37m)\\u001b[0;30m \\u001b[0;37mP\\u001b[0;37mw\\u001b[0;37m:\\u001b[0;37m2\\u001b[0;37m(\\u001b[0;37m2\\u001b[0;37m)\\u001b[0;30m \\u001b[0;37mA\\u001b[0;37mC\\u001b[0;37m:\\u001b[0;37m7\\u001b[0;30m \\u001b[0;37mX\\u001b[0;37mp\\u001b[0;37m:\\u001b[0;37m1\\u001b[0;37m/\\u001b[0;37m0\\u001b[0;30m \\u001b[0;37mT\\u001b[0;37m:\\u001b[0;37m1\\u001b[0;30m \\u001b[0;30m \\u001b[0;30m \\u001b[0;30m \\u001b[0;30m \\u001b[0;30m \\u001b[0;30m \\u001b[0;30m \\u001b[0;30m \\u001b[0;30m \\u001b[0;30m \\u001b[0;30m \\u001b[0;30m \\u001b[0;30m \\u001b[0;30m \\u001b[0;30m \\u001b[0;30m \\u001b[0;30m \\u001b[0;30m \\u001b[0;30m \\u001b[0;30m \\u001b[0;30m \\u001b[0;30m \\u001b[0;30m \\u001b[0;30m \\u001b[0;30m \\u001b[0;30m \\u001b[0;30m \\u001b[0;30m \\u001b[0;30m \\u001b[0;30m \\u001b[0;30m \\u001b[0;30m \\u001b[0;30m \\u001b[0;30m \\u001b[0;30m \\u001b[0m\\n"\
     ]\
    \}\
   ],\
   "source": [\
    "batch_idx = 0\\n",\
    "time_idx = 0\\n",\
    "chars = minibatch['tty_chars'][time_idx, batch_idx]\\n",\
    "colors = minibatch['tty_colors'][time_idx, batch_idx]\\n",\
    "cursor = minibatch['tty_cursor'][time_idx, batch_idx]\\n",\
    "\\n",\
    "print(tty_render(chars, colors, cursor))"\
   ]\
  \},\
  \{\
   "cell_type": "markdown",\
   "id": "7017a8df",\
   "metadata": \{\},\
   "source": [\
    "Then, the other elements of the batch are:\\n",\
    "- `gameids`: The gameid for the game which the observation is from.\\n",\
    "- `timestamps`: The time when the state was recorded, allowing you to understand how long the player took between frames.\\n",\
    "- `actions`: The keypresses entered after seeing the observation at this timestep (which produces the observation at the next timestep).\\n",\
    "- `scores`: The in-game score at this timestep (the result of the action at the previous timestep)\\n",\
    "- `done`: Whether the gameid corresponding to the previous timestep's observation completed. If done is `True` this means that the observation at the current timestep is the beginning of the next gameid."\
   ]\
  \},\
  \{\
   "cell_type": "markdown",\
   "id": "85a3751a",\
   "metadata": \{\},\
   "source": [\
    "### Converting Actions from Keypresses to Environment Action Space"\
   ]\
  \},\
  \{\
   "cell_type": "markdown",\
   "id": "68dc0b3f",\
   "metadata": \{\},\
   "source": [\
    "Note that the \\"actions\\" data is actually a keypress entered not an action value corresponding to the actions in the nle environment.  To convert from keypresses to the action_space of the environment you can use an embedding as shown below:"\
   ]\
  \},\
  \{\
   "cell_type": "code",\
   "execution_count": null,\
   "id": "a10b79da",\
   "metadata": \{\},\
   "outputs": [],\
   "source": [\
    "# First create an nle environment\\n",\
    "from nle.env.tasks import NetHackChallenge\\n",\
    "env = NetHackChallenge(\\n",\
    "    savedir=None,\\n",\
    "    character='@', # randomly rotate through characters\\n",\
    "    max_episode_steps=100000,\\n",\
    "    observation_keys=[\\"message\\", \\"blstats\\", \\"tty_chars\\", \\"tty_colors\\", \\"tty_cursor\\"],\\n",\
    "    penalty_step=0.0,\\n",\
    "    penalty_time=0.0,\\n",\
    "    penalty_mode=\\"constant\\",\\n",\
    "    no_progress_timeout=150,\\n",\
    ")\\n",\
    "\\n",\
    "# Then use the environment actions to convert the keypresses\\n",\
    "device = \\"cuda:0\\"\\n",\
    "embed_actions = torch.zeros((256, 1))\\n",\
    "for i, a in enumerate(env.actions):\\n",\
    "    embed_actions[a.value][0] = i\\n",\
    "self.embed_actions = torch.nn.Embedding.from_pretrained(embed_actions).to(\\n",\
    "    device\\n",\
    ")\\n",\
    "keypresses = mb_tensors[\\"actions\\"].long().to(device)\\n",\
    "actions = self.embed_actions(keypresses).squeeze(-1).long()"\
   ]\
  \},\
  \{\
   "cell_type": "markdown",\
   "id": "f16826af",\
   "metadata": \{\},\
   "source": [\
    "## Dataset Configuration Options\\n",\
    "`shuffle`: While states within a trajectory are always returned sequentially, it is possible to turn on shuffling of the *gameids*.  When true, the order of the gameids sampled is shuffled but not the order of the `seq_length` chunks returned within a single gameid.\\n",\
    "\\n",\
    "`loop_forever`: It is possible to have the iterator loop forever instead of cycling only through the dataset once.\\n",\
    "\\n",\
    "`gameids`: You can specify a list of gameids to return instead of iterating through the full dataset.\\n",\
    "\\n",\
    "`subselect_sql`: And, you can select even more complicated sets of games using specific sql queries.\\n",\
    "\\n",\
    "**Example 1:** Lets create a small dataset of just 4 games, and see the shuffle functionality:"\
   ]\
  \},\
  \{\
   "cell_type": "code",\
   "execution_count": 97,\
   "id": "195cd6de",\
   "metadata": \{\},\
   "outputs": [\
    \{\
     "name": "stdout",\
     "output_type": "stream",\
     "text": [\
      "Epoch: 0\\n",\
      "  Batch 0 first timestep gameids: [109543 109544]\\n",\
      "  Batch 1 first timestep gameids: [109543 109544]\\n",\
      "  Batch 2 first timestep gameids: [109545      0]\\n",\
      "\\n",\
      "Epoch: 1\\n",\
      "  Batch 0 first timestep gameids: [109542 109544]\\n",\
      "  Batch 1 first timestep gameids: [109543 109544]\\n",\
      "  Batch 2 first timestep gameids: [109543      0]\\n",\
      "\\n",\
      "Epoch: 2\\n",\
      "  Batch 0 first timestep gameids: [109544 109543]\\n",\
      "  Batch 1 first timestep gameids: [109544 109543]\\n",\
      "  Batch 2 first timestep gameids: [109545      0]\\n",\
      "\\n"\
     ]\
    \}\
   ],\
   "source": [\
    "shuffle_small_dataset = TtyrecDataset(\\n",\
    "    \\"autoascend\\",\\n",\
    "    batch_size=2,\\n",\
    "    seq_length=30000,\\n",\
    "    dbfilename=database_name,\\n",\
    "    shuffle=True,\\n",\
    "    loop_forever=False,\\n",\
    "    gameids=[109542, 109543, 109544, 109545],\\n",\
    ")\\n",\
    "for epoch in range(3):\\n",\
    "    print(f\\"Epoch: \{epoch\}\\")\\n",\
    "    for ind, mb in enumerate(shuffle_small_dataset):\\n",\
    "        gameids = mb[\\"gameids\\"][:, 0]\\n",\
    "        print(f\\"  Batch \{ind\} first timestep gameids: \{gameids\}\\")\\n",\
    "    print()\\n"\
   ]\
  \},\
  \{\
   "cell_type": "markdown",\
   "id": "ec373130",\
   "metadata": \{\},\
   "source": [\
    "**Example 2:** We can train just on the data from a specific character, such as \\"mon-hum-neu-mal\\" by using the subselect_sql:"\
   ]\
  \},\
  \{\
   "cell_type": "code",\
   "execution_count": 96,\
   "id": "e83fb459",\
   "metadata": \{\},\
   "outputs": [\
    \{\
     "name": "stdout",\
     "output_type": "stream",\
     "text": [\
      "Autoascend Dataset has 109,545 games.\\n",\
      "Request batch size 10,000 games with subselect_sql:\\n",\
      "    SELECT gameid FROM games WHERE  role='Mon' AND race='Hum' \\n",\
      "ERROR: Not enough ttyrecs to fill a batch!\\n"\
     ]\
    \}\
   ],\
   "source": [\
    "# Build the subselect sql query\\n",\
    "character_select = [\\" role='Mon' AND race='Hum' \\"]\\n",\
    "subselect_sql = \\"SELECT gameid FROM games WHERE \\" + \\"AND\\".join(character_select)\\n",\
    "batch_size = 10000\\n",\
    "\\n",\
    "# Build the dataset\\n",\
    "monk_dataset = TtyrecDataset(\\n",\
    "    \\"autoascend\\",\\n",\
    "    batch_size=batch_size,\\n",\
    "    seq_length=2,\\n",\
    "    dbfilename=database_name,\\n",\
    "    subselect_sql=subselect_sql,\\n",\
    ")\\n",\
    "\\n",\
    "# See from the error how there are fewer than 10k games despite the full dataset having 109k\\n",\
    "print(f\\"Autoascend Dataset has \{db.count_games('autoascend', conn=db_conn):,\} games.\\")\\n",\
    "print(f\\"Request batch size \{batch_size:,\} games with subselect_sql:\\")\\n",\
    "print(f\\"    \{subselect_sql\}\\")\\n",\
    "try:\\n",\
    "    mb = next(iter(monk_dataset))\\n",\
    "except Exception as e:\\n",\
    "    print(f\\"ERROR: \{e\}\\")\\n",\
    "    "\
   ]\
  \}\
 ],\
 "metadata": \{\
  "kernelspec": \{\
   "display_name": "Python 3 (ipykernel)",\
   "language": "python",\
   "name": "python3"\
  \},\
  "language_info": \{\
   "codemirror_mode": \{\
    "name": "ipython",\
    "version": 3\
   \},\
   "file_extension": ".py",\
   "mimetype": "text/x-python",\
   "name": "python",\
   "nbconvert_exporter": "python",\
   "pygments_lexer": "ipython3",\
   "version": "3.9.10"\
  \}\
 \},\
 "nbformat": 4,\
 "nbformat_minor": 5\
\}\
}